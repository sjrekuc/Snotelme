{
 "cells": [
  {
   "cell_type": "markdown",
   "metadata": {},
   "source": [
    "Pull data from snotel data base and analyze time series to see if there are any discernable trends. Output results to HTML so that it could be easily loaded in a website."
   ]
  },
  {
   "cell_type": "code",
   "execution_count": 1,
   "metadata": {},
   "outputs": [],
   "source": [
    "import pandas as pd\n",
    "import csv\n",
    "import requests\n",
    "import os"
   ]
  },
  {
   "cell_type": "code",
   "execution_count": 5,
   "metadata": {
    "scrolled": false
   },
   "outputs": [],
   "source": [
    "# change to the path with the raw csv file\n",
    "path=r'C:\\Springboard\\Github\\snotel\\analysis'\n",
    "os.chdir(path)"
   ]
  },
  {
   "cell_type": "code",
   "execution_count": 6,
   "metadata": {},
   "outputs": [],
   "source": [
    "# function to clean the inputs for the database\n",
    "def clean_up(num):\n",
    "    try:\n",
    "        return float(num)\n",
    "    except:\n",
    "        return 0"
   ]
  },
  {
   "cell_type": "code",
   "execution_count": 9,
   "metadata": {},
   "outputs": [],
   "source": [
    "# Pull the data just for the first snotel site on the list\n",
    "url='https://wcc.sc.egov.usda.gov/reportGenerator/view_csv/customMultiTimeSeriesGroupByStationReport/daily/start_of_period/301:CA:SNTL%7Cid=%22%22%7Cname/POR_BEGIN,POR_END/SNWD::value,WTEQ::value,SNWD::delta?fitToScreen=false'\n",
    "response = requests.get(url)\n",
    "\n",
    "# read raw CSV to clean CSV - eliminate comment rows with \"#\"\n",
    "clean_file = 'clean.csv'\n",
    "with open(clean_file, 'w') as fo:\n",
    "    for line in response.text.splitlines():\n",
    "        if \"#\" not in line:\n",
    "            fo.write(line + '\\n')"
   ]
  },
  {
   "cell_type": "code",
   "execution_count": 22,
   "metadata": {
    "scrolled": true
   },
   "outputs": [
    {
     "data": {
      "text/html": [
       "<div>\n",
       "<style scoped>\n",
       "    .dataframe tbody tr th:only-of-type {\n",
       "        vertical-align: middle;\n",
       "    }\n",
       "\n",
       "    .dataframe tbody tr th {\n",
       "        vertical-align: top;\n",
       "    }\n",
       "\n",
       "    .dataframe thead th {\n",
       "        text-align: right;\n",
       "    }\n",
       "</style>\n",
       "<table border=\"1\" class=\"dataframe\">\n",
       "  <thead>\n",
       "    <tr style=\"text-align: right;\">\n",
       "      <th></th>\n",
       "      <th>Date</th>\n",
       "      <th>Adin Mtn (301) Snow Depth (in) Start of Day Values</th>\n",
       "      <th>Adin Mtn (301) Snow Water Equivalent (in) Start of Day Values</th>\n",
       "      <th>Adin Mtn (301) Change In Snow Depth (in) Start of Day Values</th>\n",
       "    </tr>\n",
       "  </thead>\n",
       "  <tbody>\n",
       "    <tr>\n",
       "      <th>0</th>\n",
       "      <td>1984-10-01</td>\n",
       "      <td>NaN</td>\n",
       "      <td>0.0</td>\n",
       "      <td>NaN</td>\n",
       "    </tr>\n",
       "    <tr>\n",
       "      <th>1</th>\n",
       "      <td>1984-10-02</td>\n",
       "      <td>NaN</td>\n",
       "      <td>0.0</td>\n",
       "      <td>NaN</td>\n",
       "    </tr>\n",
       "    <tr>\n",
       "      <th>2</th>\n",
       "      <td>1984-10-03</td>\n",
       "      <td>NaN</td>\n",
       "      <td>0.0</td>\n",
       "      <td>NaN</td>\n",
       "    </tr>\n",
       "    <tr>\n",
       "      <th>3</th>\n",
       "      <td>1984-10-04</td>\n",
       "      <td>NaN</td>\n",
       "      <td>0.0</td>\n",
       "      <td>NaN</td>\n",
       "    </tr>\n",
       "    <tr>\n",
       "      <th>4</th>\n",
       "      <td>1984-10-05</td>\n",
       "      <td>NaN</td>\n",
       "      <td>0.0</td>\n",
       "      <td>NaN</td>\n",
       "    </tr>\n",
       "    <tr>\n",
       "      <th>...</th>\n",
       "      <td>...</td>\n",
       "      <td>...</td>\n",
       "      <td>...</td>\n",
       "      <td>...</td>\n",
       "    </tr>\n",
       "    <tr>\n",
       "      <th>13530</th>\n",
       "      <td>2021-10-17</td>\n",
       "      <td>0.0</td>\n",
       "      <td>0.1</td>\n",
       "      <td>0.0</td>\n",
       "    </tr>\n",
       "    <tr>\n",
       "      <th>13531</th>\n",
       "      <td>2021-10-18</td>\n",
       "      <td>0.0</td>\n",
       "      <td>0.2</td>\n",
       "      <td>0.0</td>\n",
       "    </tr>\n",
       "    <tr>\n",
       "      <th>13532</th>\n",
       "      <td>2021-10-19</td>\n",
       "      <td>0.0</td>\n",
       "      <td>0.2</td>\n",
       "      <td>0.0</td>\n",
       "    </tr>\n",
       "    <tr>\n",
       "      <th>13533</th>\n",
       "      <td>2021-10-20</td>\n",
       "      <td>0.0</td>\n",
       "      <td>0.1</td>\n",
       "      <td>0.0</td>\n",
       "    </tr>\n",
       "    <tr>\n",
       "      <th>13534</th>\n",
       "      <td>2021-10-21</td>\n",
       "      <td>0.0</td>\n",
       "      <td>0.1</td>\n",
       "      <td>0.0</td>\n",
       "    </tr>\n",
       "  </tbody>\n",
       "</table>\n",
       "<p>13535 rows × 4 columns</p>\n",
       "</div>"
      ],
      "text/plain": [
       "             Date  Adin Mtn (301) Snow Depth (in) Start of Day Values  \\\n",
       "0      1984-10-01                                                NaN    \n",
       "1      1984-10-02                                                NaN    \n",
       "2      1984-10-03                                                NaN    \n",
       "3      1984-10-04                                                NaN    \n",
       "4      1984-10-05                                                NaN    \n",
       "...           ...                                                ...    \n",
       "13530  2021-10-17                                                0.0    \n",
       "13531  2021-10-18                                                0.0    \n",
       "13532  2021-10-19                                                0.0    \n",
       "13533  2021-10-20                                                0.0    \n",
       "13534  2021-10-21                                                0.0    \n",
       "\n",
       "       Adin Mtn (301) Snow Water Equivalent (in) Start of Day Values  \\\n",
       "0                                                    0.0               \n",
       "1                                                    0.0               \n",
       "2                                                    0.0               \n",
       "3                                                    0.0               \n",
       "4                                                    0.0               \n",
       "...                                                  ...               \n",
       "13530                                                0.1               \n",
       "13531                                                0.2               \n",
       "13532                                                0.2               \n",
       "13533                                                0.1               \n",
       "13534                                                0.1               \n",
       "\n",
       "       Adin Mtn (301) Change In Snow Depth (in) Start of Day Values  \n",
       "0                                                    NaN             \n",
       "1                                                    NaN             \n",
       "2                                                    NaN             \n",
       "3                                                    NaN             \n",
       "4                                                    NaN             \n",
       "...                                                  ...             \n",
       "13530                                                0.0             \n",
       "13531                                                0.0             \n",
       "13532                                                0.0             \n",
       "13533                                                0.0             \n",
       "13534                                                0.0             \n",
       "\n",
       "[13535 rows x 4 columns]"
      ]
     },
     "execution_count": 22,
     "metadata": {},
     "output_type": "execute_result"
    }
   ],
   "source": [
    "# read result back in as PD\n",
    "snow = pd.read_csv(clean_file, error_bad_lines=False)\n",
    "snow"
   ]
  },
  {
   "cell_type": "markdown",
   "metadata": {},
   "source": [
    "That's what we want. Now we just need to eliminate the NaN values: fill the first row with 0 and then use the previous value to fill all the other Nan."
   ]
  },
  {
   "cell_type": "code",
   "execution_count": 23,
   "metadata": {
    "scrolled": true
   },
   "outputs": [
    {
     "data": {
      "text/plain": [
       "Date                                                             1984-10-01\n",
       "Adin Mtn (301) Snow Depth (in) Start of Day Values                      NaN\n",
       "Adin Mtn (301) Snow Water Equivalent (in) Start of Day Values             0\n",
       "Adin Mtn (301) Change In Snow Depth (in) Start of Day Values            NaN\n",
       "Name: 0, dtype: object"
      ]
     },
     "execution_count": 23,
     "metadata": {},
     "output_type": "execute_result"
    }
   ],
   "source": [
    "snow.loc[0]"
   ]
  },
  {
   "cell_type": "code",
   "execution_count": 34,
   "metadata": {},
   "outputs": [],
   "source": [
    "# rename columns\n",
    "snow.columns = ['ds', 'Depth', 'Water', 'y']"
   ]
  },
  {
   "cell_type": "code",
   "execution_count": 35,
   "metadata": {
    "scrolled": true
   },
   "outputs": [],
   "source": [
    "snow.fillna(value=0, inplace=True)"
   ]
  },
  {
   "cell_type": "code",
   "execution_count": 36,
   "metadata": {
    "scrolled": true
   },
   "outputs": [
    {
     "data": {
      "text/html": [
       "<div>\n",
       "<style scoped>\n",
       "    .dataframe tbody tr th:only-of-type {\n",
       "        vertical-align: middle;\n",
       "    }\n",
       "\n",
       "    .dataframe tbody tr th {\n",
       "        vertical-align: top;\n",
       "    }\n",
       "\n",
       "    .dataframe thead th {\n",
       "        text-align: right;\n",
       "    }\n",
       "</style>\n",
       "<table border=\"1\" class=\"dataframe\">\n",
       "  <thead>\n",
       "    <tr style=\"text-align: right;\">\n",
       "      <th></th>\n",
       "      <th>ds</th>\n",
       "      <th>Depth</th>\n",
       "      <th>Water</th>\n",
       "      <th>y</th>\n",
       "    </tr>\n",
       "  </thead>\n",
       "  <tbody>\n",
       "    <tr>\n",
       "      <th>0</th>\n",
       "      <td>1984-10-01</td>\n",
       "      <td>0.0</td>\n",
       "      <td>0.0</td>\n",
       "      <td>0.0</td>\n",
       "    </tr>\n",
       "    <tr>\n",
       "      <th>1</th>\n",
       "      <td>1984-10-02</td>\n",
       "      <td>0.0</td>\n",
       "      <td>0.0</td>\n",
       "      <td>0.0</td>\n",
       "    </tr>\n",
       "    <tr>\n",
       "      <th>2</th>\n",
       "      <td>1984-10-03</td>\n",
       "      <td>0.0</td>\n",
       "      <td>0.0</td>\n",
       "      <td>0.0</td>\n",
       "    </tr>\n",
       "    <tr>\n",
       "      <th>3</th>\n",
       "      <td>1984-10-04</td>\n",
       "      <td>0.0</td>\n",
       "      <td>0.0</td>\n",
       "      <td>0.0</td>\n",
       "    </tr>\n",
       "    <tr>\n",
       "      <th>4</th>\n",
       "      <td>1984-10-05</td>\n",
       "      <td>0.0</td>\n",
       "      <td>0.0</td>\n",
       "      <td>0.0</td>\n",
       "    </tr>\n",
       "    <tr>\n",
       "      <th>...</th>\n",
       "      <td>...</td>\n",
       "      <td>...</td>\n",
       "      <td>...</td>\n",
       "      <td>...</td>\n",
       "    </tr>\n",
       "    <tr>\n",
       "      <th>13530</th>\n",
       "      <td>2021-10-17</td>\n",
       "      <td>0.0</td>\n",
       "      <td>0.1</td>\n",
       "      <td>0.0</td>\n",
       "    </tr>\n",
       "    <tr>\n",
       "      <th>13531</th>\n",
       "      <td>2021-10-18</td>\n",
       "      <td>0.0</td>\n",
       "      <td>0.2</td>\n",
       "      <td>0.0</td>\n",
       "    </tr>\n",
       "    <tr>\n",
       "      <th>13532</th>\n",
       "      <td>2021-10-19</td>\n",
       "      <td>0.0</td>\n",
       "      <td>0.2</td>\n",
       "      <td>0.0</td>\n",
       "    </tr>\n",
       "    <tr>\n",
       "      <th>13533</th>\n",
       "      <td>2021-10-20</td>\n",
       "      <td>0.0</td>\n",
       "      <td>0.1</td>\n",
       "      <td>0.0</td>\n",
       "    </tr>\n",
       "    <tr>\n",
       "      <th>13534</th>\n",
       "      <td>2021-10-21</td>\n",
       "      <td>0.0</td>\n",
       "      <td>0.1</td>\n",
       "      <td>0.0</td>\n",
       "    </tr>\n",
       "  </tbody>\n",
       "</table>\n",
       "<p>13535 rows × 4 columns</p>\n",
       "</div>"
      ],
      "text/plain": [
       "               ds  Depth  Water    y\n",
       "0      1984-10-01    0.0    0.0  0.0\n",
       "1      1984-10-02    0.0    0.0  0.0\n",
       "2      1984-10-03    0.0    0.0  0.0\n",
       "3      1984-10-04    0.0    0.0  0.0\n",
       "4      1984-10-05    0.0    0.0  0.0\n",
       "...           ...    ...    ...  ...\n",
       "13530  2021-10-17    0.0    0.1  0.0\n",
       "13531  2021-10-18    0.0    0.2  0.0\n",
       "13532  2021-10-19    0.0    0.2  0.0\n",
       "13533  2021-10-20    0.0    0.1  0.0\n",
       "13534  2021-10-21    0.0    0.1  0.0\n",
       "\n",
       "[13535 rows x 4 columns]"
      ]
     },
     "execution_count": 36,
     "metadata": {},
     "output_type": "execute_result"
    }
   ],
   "source": [
    "snow"
   ]
  },
  {
   "cell_type": "code",
   "execution_count": 37,
   "metadata": {},
   "outputs": [
    {
     "name": "stderr",
     "output_type": "stream",
     "text": [
      "INFO:numexpr.utils:NumExpr defaulting to 4 threads.\n"
     ]
    },
    {
     "data": {
      "image/png": "[encoded data removed]",
      "text/plain": [
       "<Figure size 648x432 with 2 Axes>"
      ]
     },
     "execution_count": 37,
     "metadata": {},
     "output_type": "execute_result"
    },
    {
     "data": {
      "image/png": "[encoded data removed]",
      "text/plain": [
       "<Figure size 648x432 with 2 Axes>"
      ]
     },
     "metadata": {},
     "output_type": "display_data"
    }
   ],
   "source": [
    "# let's take a better look at this with FB's Prophet - not considering any other regressors yet\n",
    "from fbprophet import Prophet\n",
    "m_fb = Prophet(yearly_seasonality = True, daily_seasonality=False, weekly_seasonality=False)\n",
    "m_fb.fit(snow)\n",
    "future = m_fb.make_future_dataframe(periods=365)\n",
    "forecast = m_fb.predict(future)\n",
    "m_fb.plot_components(forecast)"
   ]
  },
  {
   "cell_type": "markdown",
   "metadata": {},
   "source": [
    "That looks OK, but I want more consistent values. I think the loss of snow may also be hurting the values. I will remove the negative values and do a 7-day sum."
   ]
  },
  {
   "cell_type": "code",
   "execution_count": 38,
   "metadata": {},
   "outputs": [
    {
     "ename": "SyntaxError",
     "evalue": "invalid syntax (<ipython-input-38-21886d0c7a38>, line 1)",
     "output_type": "error",
     "traceback": [
      "\u001b[1;36m  File \u001b[1;32m\"<ipython-input-38-21886d0c7a38>\"\u001b[1;36m, line \u001b[1;32m1\u001b[0m\n\u001b[1;33m    snow['y'] = [0 if snow['y'] < 0]\u001b[0m\n\u001b[1;37m                                   ^\u001b[0m\n\u001b[1;31mSyntaxError\u001b[0m\u001b[1;31m:\u001b[0m invalid syntax\n"
     ]
    }
   ],
   "source": [
    "snow['y'] = [0 if snow['y'] < 0]\n",
    "snow"
   ]
  },
  {
   "cell_type": "code",
   "execution_count": null,
   "metadata": {},
   "outputs": [],
   "source": []
  }
 ],
 "metadata": {
  "kernelspec": {
   "display_name": "Python 3",
   "language": "python",
   "name": "python3"
  },
  "language_info": {
   "codemirror_mode": {
    "name": "ipython",
    "version": 3
   },
   "file_extension": ".py",
   "mimetype": "text/x-python",
   "name": "python",
   "nbconvert_exporter": "python",
   "pygments_lexer": "ipython3",
   "version": "3.7.6"
  }
 },
 "nbformat": 4,
 "nbformat_minor": 4
}
